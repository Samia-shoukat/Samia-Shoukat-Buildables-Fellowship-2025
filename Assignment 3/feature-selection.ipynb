{
 "cells": [
  {
   "cell_type": "code",
   "execution_count": 5,
   "id": "f22d572a-cf24-42b1-9bbc-69712fe36dcb",
   "metadata": {},
   "outputs": [],
   "source": [
    "import pandas as pd\n",
    "import numpy as np\n",
    "import matplotlib.pyplot as plt\n",
    "from sklearn.datasets import load_iris\n",
    "from sklearn.model_selection import train_test_split, cross_val_score\n",
    "from sklearn.linear_model import LogisticRegression\n",
    "from sklearn.feature_selection import RFE\n",
    "from sklearn.model_selection import StratifiedKFold\n",
    "from sklearn.tree import DecisionTreeClassifier\n",
    "from sklearn.metrics import accuracy_score\n",
    "from sklearn.feature_selection import mutual_info_classif\n",
    "import statsmodels.api as sm"
   ]
  },
  {
   "cell_type": "code",
   "execution_count": 6,
   "id": "7c849782-b315-48d3-905f-7d94a9c8109c",
   "metadata": {},
   "outputs": [],
   "source": [
    "\n",
    "iris = load_iris()\n",
    "X = pd.DataFrame(iris.data, columns=iris.feature_names)\n",
    "y = iris.target"
   ]
  },
  {
   "cell_type": "code",
   "execution_count": 7,
   "id": "fc6892e3-c049-4755-98d7-6c735a455bc0",
   "metadata": {},
   "outputs": [
    {
     "name": "stdout",
     "output_type": "stream",
     "text": [
      "   sepal length (cm)  sepal width (cm)  petal length (cm)  petal width (cm)\n",
      "0                5.1               3.5                1.4               0.2\n",
      "1                4.9               3.0                1.4               0.2\n",
      "2                4.7               3.2                1.3               0.2\n",
      "3                4.6               3.1                1.5               0.2\n",
      "4                5.0               3.6                1.4               0.2\n",
      "Target classes: ['setosa' 'versicolor' 'virginica']\n"
     ]
    }
   ],
   "source": [
    "print(X.head())\n",
    "print(\"Target classes:\", iris.target_names)"
   ]
  },
  {
   "cell_type": "markdown",
   "id": "c4ffc8fd-d37f-454e-beed-1052a72c347a",
   "metadata": {},
   "source": [
    "# Baseline Model"
   ]
  },
  {
   "cell_type": "code",
   "execution_count": 8,
   "id": "198de177-ddc3-41f0-82a6-8c262670a90a",
   "metadata": {},
   "outputs": [
    {
     "name": "stdout",
     "output_type": "stream",
     "text": [
      "Baseline Accuracy: 1.0\n"
     ]
    }
   ],
   "source": [
    "X_train, X_test, y_train, y_test = train_test_split(X, y, test_size=0.2, random_state=42)\n",
    "lr = LogisticRegression(max_iter=100)\n",
    "lr.fit(X_train, y_train)\n",
    "\n",
    "baseline_acc = lr.score(X_test, y_test)\n",
    "print(\"Baseline Accuracy:\", baseline_acc)"
   ]
  },
  {
   "cell_type": "markdown",
   "id": "e48ec777-d26c-4244-aff3-30fd504023e0",
   "metadata": {},
   "source": [
    "# RFE"
   ]
  },
  {
   "cell_type": "code",
   "execution_count": 9,
   "id": "47efe4a7-2633-4a82-91e5-e78c57edeb6b",
   "metadata": {},
   "outputs": [
    {
     "name": "stdout",
     "output_type": "stream",
     "text": [
      "Optimal Number of Features: 2\n",
      "Best CV Accuracy: 0.9666666666666668\n"
     ]
    }
   ],
   "source": [
    "cv = StratifiedKFold(n_splits=5, shuffle=True, random_state=42)\n",
    "feature_counts = []\n",
    "cv_scores = []\n",
    "for n in range(1, X.shape[1] + 1): \n",
    "    rfe = RFE(estimator=LogisticRegression(max_iter=200), n_features_to_select=n)\n",
    "    X_rfe = rfe.fit_transform(X, y)\n",
    "    score = cross_val_score(LogisticRegression(max_iter=200), X_rfe, y, cv=cv, scoring=\"accuracy\").mean()\n",
    "    feature_counts.append(n)\n",
    "    cv_scores.append(score)\n",
    "optimal_features = feature_counts[np.argmax(cv_scores)]\n",
    "print(\"Optimal Number of Features:\", optimal_features)\n",
    "print(\"Best CV Accuracy:\", max(cv_scores))"
   ]
  },
  {
   "cell_type": "code",
   "execution_count": 10,
   "id": "0d37c19d-5a04-4235-badf-7f01a74daa96",
   "metadata": {},
   "outputs": [],
   "source": [
    "# Baseline Model accuracy 1.0 while RFE has 0.9666666666666668 as it shows using RFE with Logistic Regression the optimal subset \n",
    "# of features is petal length and petal width. The baseline model with all 4 features achieved an accuracy of . After applying RFE, the model \n",
    "# using only 2 features achieved a similar accuracy (~96%)."
   ]
  },
  {
   "cell_type": "markdown",
   "id": "29e55e7d-b779-4bf2-bba2-c08fbd772173",
   "metadata": {},
   "source": [
    "# Decision Tree Classifier"
   ]
  },
  {
   "cell_type": "code",
   "execution_count": 11,
   "id": "269d3717-dec3-4131-be5f-f4ca053e82a0",
   "metadata": {},
   "outputs": [
    {
     "name": "stdout",
     "output_type": "stream",
     "text": [
      "Baseline Accuracy including all Feature: 0.9333333333333333\n"
     ]
    }
   ],
   "source": [
    "X_train, X_test, y_train, y_test = train_test_split(X, y, test_size=0.2, random_state=42, stratify=y)\n",
    "dt = DecisionTreeClassifier(random_state=42)\n",
    "dt.fit(X_train, y_train)\n",
    "y_pred = dt.predict(X_test)\n",
    "baseline_acc = accuracy_score(y_test, y_pred)\n",
    "print(\"Baseline Accuracy including all Feature:\", baseline_acc)"
   ]
  },
  {
   "cell_type": "code",
   "execution_count": 12,
   "id": "f4a64520-9255-499e-a7b0-94bb12d79a03",
   "metadata": {},
   "outputs": [
    {
     "name": "stdout",
     "output_type": "stream",
     "text": [
      "\n",
      "Feature Importance Ranking:\n",
      "             Feature  Importance\n",
      "2  petal length (cm)    0.558568\n",
      "3   petal width (cm)    0.406015\n",
      "1   sepal width (cm)    0.029167\n",
      "0  sepal length (cm)    0.006250\n"
     ]
    }
   ],
   "source": [
    "importances = dt.feature_importances_\n",
    "feature_importance_df = pd.DataFrame({\"Feature\": X.columns,\"Importance\": importances}).sort_values(by=\"Importance\", ascending=False)\n",
    "print(\"\\nFeature Importance Ranking:\")\n",
    "print(feature_importance_df)"
   ]
  },
  {
   "cell_type": "code",
   "execution_count": 13,
   "id": "54b8e256-0b03-4e91-bd1a-c5283ed9e096",
   "metadata": {},
   "outputs": [
    {
     "name": "stdout",
     "output_type": "stream",
     "text": [
      "\n",
      "Accuracy Without 'sepal length (cm)': 0.9777777777777777\n"
     ]
    }
   ],
   "source": [
    "least_important = feature_importance_df.iloc[-1][\"Feature\"]\n",
    "X_reduced = X.drop(columns=[least_important])\n",
    "X_train_r, X_test_r, y_train_r, y_test_r = train_test_split( X_reduced, y, test_size=0.3, random_state=42, stratify=y)\n",
    "\n",
    "dt_reduced = DecisionTreeClassifier(random_state=42)\n",
    "dt_reduced.fit(X_train_r, y_train_r)\n",
    "\n",
    "y_pred_r = dt_reduced.predict(X_test_r)\n",
    "reduced_acc = accuracy_score(y_test_r, y_pred_r)\n",
    "\n",
    "print(f\"\\nAccuracy Without '{least_important}':\", reduced_acc)"
   ]
  },
  {
   "cell_type": "code",
   "execution_count": 14,
   "id": "1528acc3-5dd2-4ea4-9450-0521f3bc9351",
   "metadata": {},
   "outputs": [],
   "source": [
    "# Using a Decision Tree Classifier we computed feature importance scores for the Iris dataset\n",
    "# The most important features were petal length and petal width, while sepal width contributed the least.\n",
    "# The baseline model with all 4 features achieved an accuracy of 0.93333. After removing the least important feature (sepal width), \n",
    "# accuracy improved by 0.977777."
   ]
  },
  {
   "cell_type": "code",
   "execution_count": 15,
   "id": "cbbc75a9-7e3d-40b3-bf6a-ee6e0c9d391d",
   "metadata": {},
   "outputs": [
    {
     "data": {
      "image/png": "[encoded data removed]",
      "text/plain": [
       "<Figure size 1000x400 with 2 Axes>"
      ]
     },
     "metadata": {},
     "output_type": "display_data"
    }
   ],
   "source": [
    "with_all = baseline_acc\n",
    "without_feat = reduced_acc\n",
    "\n",
    "fig, axes = plt.subplots(1, 2, figsize=(10,4))\n",
    "\n",
    "axes[0].bar([\"With All Features\"], [with_all], color=\"skyblue\")\n",
    "axes[0].set_title(\"Accuracy with All Features\")\n",
    "axes[0].set_ylim(0.9, 1.05)\n",
    "axes[0].set_ylabel(\"Accuracy\")\n",
    "axes[0].text(0, with_all + 0.005, f\"{with_all:.3f}\", ha=\"center\", fontsize=10)\n",
    "\n",
    "axes[1].bar([f\"Without {least_important}\"], [without_feat], color=\"lightgreen\")\n",
    "axes[1].set_title(\"Accuracy without Least Important Feature\")\n",
    "axes[1].set_ylim(0.9, 1.05)\n",
    "axes[1].text(0, without_feat + 0.005, f\"{without_feat:.3f}\", ha=\"center\", fontsize=10)\n",
    "\n",
    "plt.suptitle(\"Performance Comparison\", fontsize=14)\n",
    "plt.tight_layout()\n",
    "plt.show()"
   ]
  },
  {
   "cell_type": "markdown",
   "id": "c4d4f951-e622-451d-8364-b70d05a66eac",
   "metadata": {},
   "source": [
    "# Mutual Information / Gini Index / Information Gain"
   ]
  },
  {
   "cell_type": "code",
   "execution_count": 16,
   "id": "742f08fb-b0ff-4716-923f-ca0f236f2a4e",
   "metadata": {},
   "outputs": [
    {
     "name": "stdout",
     "output_type": "stream",
     "text": [
      "Mutual Information Scores:\n",
      " petal length (cm)    0.992573\n",
      "petal width (cm)     0.985643\n",
      "sepal length (cm)    0.511365\n",
      "sepal width (cm)     0.299424\n",
      "dtype: float64\n",
      "Gini Index Scores:\n",
      " petal length (cm)    0.564056\n",
      "petal width (cm)     0.422611\n",
      "sepal length (cm)    0.013333\n",
      "sepal width (cm)     0.000000\n",
      "dtype: float64\n",
      "Information Gain Scores:\n",
      " petal length (cm)    0.657034\n",
      "petal width (cm)     0.331379\n",
      "sepal length (cm)    0.011588\n",
      "sepal width (cm)     0.000000\n",
      "dtype: float64\n"
     ]
    }
   ],
   "source": [
    "mi = mutual_info_classif(X, y, random_state=42)\n",
    "mi_scores = pd.Series(mi, index=X.columns).sort_values(ascending=False)\n",
    "print(\"Mutual Information Scores:\\n\", mi_scores)\n",
    "\n",
    "tree_gini = DecisionTreeClassifier(criterion=\"gini\", random_state=42)\n",
    "tree_gini.fit(X, y)\n",
    "gini_scores = pd.Series(tree_gini.feature_importances_, index=X.columns).sort_values(ascending=False)\n",
    "print(\"Gini Index Scores:\\n\", gini_scores)\n",
    "\n",
    "tree_entropy = DecisionTreeClassifier(criterion=\"entropy\", random_state=42)\n",
    "tree_entropy.fit(X, y)\n",
    "ig_scores = pd.Series(tree_entropy.feature_importances_, index=X.columns).sort_values(ascending=False)\n",
    "print(\"Information Gain Scores:\\n\", ig_scores)"
   ]
  },
  {
   "cell_type": "code",
   "execution_count": 17,
   "id": "267943df-f466-4ff3-847b-c24cad96d196",
   "metadata": {},
   "outputs": [
    {
     "name": "stdout",
     "output_type": "stream",
     "text": [
      "\n",
      "Feature Ranking Comparison:\n",
      "\n",
      "                   Mutual Information  Gini Index  Information Gain\n",
      "petal length (cm)            0.992573    0.564056          0.657034\n",
      "petal width (cm)             0.985643    0.422611          0.331379\n",
      "sepal length (cm)            0.511365    0.013333          0.011588\n",
      "sepal width (cm)             0.299424    0.000000          0.000000\n"
     ]
    }
   ],
   "source": [
    "comparison = pd.DataFrame({\n",
    "    \"Mutual Information\": mi_scores,\n",
    "    \"Gini Index\": gini_scores,\n",
    "    \"Information Gain\": ig_scores\n",
    "})\n",
    "\n",
    "print(\"\\nFeature Ranking Comparison:\\n\")\n",
    "print(comparison)"
   ]
  },
  {
   "cell_type": "code",
   "execution_count": 18,
   "id": "2e959faf-c1f3-4e46-8750-f2608ce30330",
   "metadata": {},
   "outputs": [
    {
     "data": {
      "image/png": "[encoded data removed]",
      "text/plain": [
       "<Figure size 1200x600 with 1 Axes>"
      ]
     },
     "metadata": {},
     "output_type": "display_data"
    }
   ],
   "source": [
    "comparison.plot(kind=\"bar\",figsize=(12,6))\n",
    "plt.title(\"Feature Importance Comparison (MI vs Gini vs Info Gain)\")\n",
    "plt.ylabel(\"Importance Score\")\n",
    "plt.xticks(rotation=45)\n",
    "plt.show()"
   ]
  },
  {
   "cell_type": "markdown",
   "id": "5647e04e-83de-4d56-b0df-108e85cfc0a4",
   "metadata": {},
   "source": [
    "# Forward Selection"
   ]
  },
  {
   "cell_type": "code",
   "execution_count": 19,
   "id": "5603768c-5fd0-4ce7-8217-278399d93c9b",
   "metadata": {},
   "outputs": [
    {
     "name": "stdout",
     "output_type": "stream",
     "text": [
      "Step 1: Selected ['petal width (cm)'], Accuracy = 0.9600\n",
      "Step 2: Selected ['petal width (cm)', 'petal length (cm)'], Accuracy = 0.9600\n",
      "Step 3: Selected ['petal width (cm)', 'petal length (cm)', 'sepal width (cm)'], Accuracy = 0.9667\n",
      "Step 4: Selected ['petal width (cm)', 'petal length (cm)', 'sepal width (cm)', 'sepal length (cm)'], Accuracy = 0.9733\n"
     ]
    }
   ],
   "source": [
    "def forward_selection(X, y, model, cv=5):\n",
    "    remaining_features = list(X.columns)\n",
    "    selected_features = []\n",
    "    performance = []\n",
    "\n",
    "    while remaining_features:\n",
    "        scores_with_candidates = []\n",
    "\n",
    "        for feature in remaining_features:\n",
    "            \n",
    "            features_to_test = selected_features + [feature]\n",
    "            score = cross_val_score(model, X[features_to_test], y, cv=cv).mean()\n",
    "            scores_with_candidates.append((score, feature))\n",
    "\n",
    "        scores_with_candidates.sort(reverse=True)\n",
    "        best_score, best_feature = scores_with_candidates[0]\n",
    "\n",
    "        selected_features.append(best_feature)\n",
    "        remaining_features.remove(best_feature)\n",
    "        performance.append((list(selected_features), best_score))\n",
    "\n",
    "    return performance\n",
    "log_reg = LogisticRegression(max_iter=200)\n",
    "\n",
    "results = forward_selection(X, y, log_reg)\n",
    "\n",
    "for step, (features, score) in enumerate(results, start=1):\n",
    "    print(f\"Step {step}: Selected {features}, Accuracy = {score:.4f}\")"
   ]
  },
  {
   "cell_type": "code",
   "execution_count": 20,
   "id": "c4b0a81a-2439-4190-a838-4a10785f9547",
   "metadata": {},
   "outputs": [],
   "source": [
    "# featue with high importance like petal width and petal lenght add first and then the leastb important feature like sepal lenght and sepal width"
   ]
  },
  {
   "cell_type": "markdown",
   "id": "f1b7668b-e754-4804-bb3f-af1ad689b94a",
   "metadata": {},
   "source": [
    "# Backward Elimination"
   ]
  },
  {
   "cell_type": "code",
   "execution_count": 21,
   "id": "370f2334-0b5c-42a0-af0c-38fcb260e331",
   "metadata": {},
   "outputs": [
    {
     "name": "stdout",
     "output_type": "stream",
     "text": [
      "Removing petal width (cm) (p-value=0.3608)\n",
      "Final Selected Features: ['sepal length (cm)', 'sepal width (cm)', 'petal length (cm)']\n"
     ]
    }
   ],
   "source": [
    "import statsmodels.api as sm\n",
    "\n",
    "y_binary = (y == 0).astype(int)  \n",
    "\n",
    "X_with_const = sm.add_constant(X)\n",
    "model = sm.OLS(y_binary, X_with_const).fit()\n",
    "\n",
    "def backward_elimination(X, y, significance_level=0.05):\n",
    "    features = list(X.columns)\n",
    "    while True:\n",
    "        X_const = sm.add_constant(X[features])\n",
    "        model = sm.OLS(y, X_const).fit()\n",
    "        p_values = model.pvalues.iloc[1:]  \n",
    "        worst_pval = p_values.max()\n",
    "        if worst_pval > significance_level:\n",
    "            worst_feature = p_values.idxmax()\n",
    "            print(f\"Removing {worst_feature} (p-value={worst_pval:.4f})\")\n",
    "            features.remove(worst_feature)\n",
    "        else:\n",
    "            break\n",
    "    return features\n",
    "\n",
    "selected_features = backward_elimination(X, y_binary)\n",
    "print(\"Final Selected Features:\", selected_features)\n"
   ]
  },
  {
   "cell_type": "markdown",
   "id": "bf9f0e2c-ac03-4143-83e7-be689302376b",
   "metadata": {},
   "source": [
    "# L1 Regularization (Lasso Regression)"
   ]
  },
  {
   "cell_type": "code",
   "execution_count": 22,
   "id": "a46081a1-9632-454e-85ad-a300eab2f5df",
   "metadata": {},
   "outputs": [
    {
     "name": "stdout",
     "output_type": "stream",
     "text": [
      "Coefficients before regularization:\n",
      "sepal length (cm)   -0.099555\n",
      "sepal width (cm)    -0.044515\n",
      "petal length (cm)    0.219499\n",
      "petal width (cm)     0.622204\n",
      "dtype: float64\n",
      "R2 Score before regularization: 0.9139814715607814\n",
      "\n",
      "Coefficients after L1 Regularization (Lasso):\n",
      "sepal length (cm)    0.00000\n",
      "sepal width (cm)    -0.00000\n",
      "petal length (cm)    0.40866\n",
      "petal width (cm)     0.00000\n",
      "dtype: float64\n",
      "R2 Score after regularization: 0.881478359744977\n",
      "\n",
      "Eliminated Features: ['sepal length (cm)', 'sepal width (cm)', 'petal width (cm)']\n"
     ]
    },
    {
     "name": "stderr",
     "output_type": "stream",
     "text": [
      "C:\\Users\\Dell\\AppData\\Roaming\\Python\\Python313\\site-packages\\sklearn\\base.py:1389: UserWarning: With alpha=0, this algorithm does not converge well. You are advised to use the LinearRegression estimator\n",
      "  return fit_method(estimator, *args, **kwargs)\n",
      "C:\\Users\\Dell\\AppData\\Roaming\\Python\\Python313\\site-packages\\sklearn\\linear_model\\_coordinate_descent.py:695: UserWarning: Coordinate descent with no regularization may lead to unexpected results and is discouraged.\n",
      "  model = cd_fast.enet_coordinate_descent(\n",
      "C:\\Users\\Dell\\AppData\\Roaming\\Python\\Python313\\site-packages\\sklearn\\linear_model\\_coordinate_descent.py:695: ConvergenceWarning: Objective did not converge. You might want to increase the number of iterations, check the scale of the features or consider increasing regularisation. Duality gap: 2.626e+00, tolerance: 8.000e-03 Linear regression models with null weight for the l1 regularization term are more efficiently fitted using one of the solvers implemented in sklearn.linear_model.Ridge/RidgeCV instead.\n",
      "  model = cd_fast.enet_coordinate_descent(\n"
     ]
    }
   ],
   "source": [
    "from sklearn.linear_model import Lasso\n",
    "from sklearn.metrics import r2_score\n",
    "\n",
    "# Before lasso regularization\n",
    "before_lasso = Lasso(alpha=0.0, max_iter=10000)\n",
    "before_lasso .fit(X_train, y_train)\n",
    "y_pred_no_reg = before_lasso .predict(X_test)\n",
    "score_no_reg = r2_score(y_test, y_pred_no_reg)\n",
    "\n",
    "print(\"Coefficients before regularization:\")\n",
    "print(pd.Series(before_lasso .coef_, index=X.columns))\n",
    "print(\"R2 Score before regularization:\", score_no_reg)\n",
    "\n",
    "lasso = Lasso(alpha=0.1, max_iter=10000)  \n",
    "lasso.fit(X_train, y_train)\n",
    "y_pred = lasso.predict(X_test)\n",
    "score_lasso = r2_score(y_test, y_pred)\n",
    "\n",
    "print(\"\\nCoefficients after L1 Regularization (Lasso):\")\n",
    "print(pd.Series(lasso.coef_, index=X.columns))\n",
    "print(\"R2 Score after regularization:\", score_lasso)\n",
    "\n",
    "eliminated = X.columns[lasso.coef_ == 0]\n",
    "print(\"\\nEliminated Features:\", list(eliminated))"
   ]
  },
  {
   "cell_type": "markdown",
   "id": "b0d8ad49-cdc1-4131-a7df-7bfa3c696c52",
   "metadata": {},
   "source": [
    "# Boruta Algorithm"
   ]
  },
  {
   "cell_type": "code",
   "execution_count": 56,
   "id": "190c842f-426f-4128-8076-c088b5597410",
   "metadata": {},
   "outputs": [
    {
     "name": "stdout",
     "output_type": "stream",
     "text": [
      "Boruta Selected Features: ['sepal length (cm)', 'sepal width (cm)', 'petal length (cm)', 'petal width (cm)']\n",
      "Accuracy with Boruta Features: 1.0\n"
     ]
    }
   ],
   "source": [
    "from boruta import BorutaPy\n",
    "from sklearn.ensemble import RandomForestClassifier\n",
    "\n",
    "rf = RandomForestClassifier(n_estimators=100, random_state=42)\n",
    "boruta = BorutaPy(rf, n_estimators='auto', random_state=42)\n",
    "boruta.fit(X_train.values, y_train)\n",
    "\n",
    "boruta_features = X.columns[boruta.support_].tolist()\n",
    "print(\"Boruta Selected Features:\", boruta_features)\n",
    "\n",
    "rf_boruta = RandomForestClassifier(n_estimators=100, random_state=42)\n",
    "rf_boruta.fit(X_train[boruta_features], y_train)\n",
    "y_pred_boruta = rf_boruta.predict(X_test[boruta_features])\n",
    "print(\"Accuracy with Boruta Features:\", accuracy_score(y_test, y_pred_boruta))"
   ]
  },
  {
   "cell_type": "markdown",
   "id": "c4c62c99-b5d7-477b-a049-2b57cc9e7dd8",
   "metadata": {},
   "source": [
    "# Chi-Square Test (χ² Test)"
   ]
  },
  {
   "cell_type": "code",
   "execution_count": 52,
   "id": "bdd715ee-a689-4f24-af2c-2ca8f954ec6e",
   "metadata": {},
   "outputs": [
    {
     "name": "stdout",
     "output_type": "stream",
     "text": [
      "Chi-Square Test Results:\n",
      "             Feature  Chi2 Score       p-value\n",
      "3   petal width (cm)   30.478068  2.408639e-07\n",
      "2  petal length (cm)   26.861936  1.468942e-06\n",
      "0  sepal length (cm)   11.377274  3.384203e-03\n",
      "1   sepal width (cm)    4.470734  1.069529e-01\n",
      "\n",
      "Significant Features (p < 0.05): ['sepal length (cm)', 'petal length (cm)', 'petal width (cm)']\n",
      "\n",
      "Accuracy with All Features: 1.0\n",
      "Accuracy with Chi-Square Selected Features: 1.0\n"
     ]
    }
   ],
   "source": [
    "from sklearn.feature_selection import SelectKBest, chi2\n",
    "from sklearn.preprocessing import MinMaxScaler \n",
    "\n",
    "scaler = MinMaxScaler()\n",
    "X_scaled = scaler.fit_transform(X)\n",
    "\n",
    "chi2_selector = SelectKBest(score_func=chi2, k=\"all\")\n",
    "chi2_selector.fit(X_scaled, y)\n",
    "\n",
    "chi2_scores = pd.DataFrame({\n",
    "    'Feature': iris.feature_names,\n",
    "    'Chi2 Score': chi2_selector.scores_,\n",
    "    'p-value': chi2_selector.pvalues_\n",
    "})\n",
    "\n",
    "print(\"Chi-Square Test Results:\")\n",
    "print(chi2_scores.sort_values(by=\"Chi2 Score\", ascending=False))\n",
    "\n",
    "selected_features = chi2_scores[chi2_scores[\"p-value\"] < 0.05][\"Feature\"].tolist()\n",
    "print(\"\\nSignificant Features (p < 0.05):\", selected_features)\n",
    "\n",
    "X_train, X_test, y_train, y_test = train_test_split(X, y, test_size=0.2, random_state=42)\n",
    "\n",
    "rf_all = RandomForestClassifier(n_estimators=100, random_state=42)\n",
    "rf_all.fit(X_train, y_train)\n",
    "y_pred_all = rf_all.predict(X_test)\n",
    "print(\"\\nAccuracy with All Features:\", accuracy_score(y_test, y_pred_all))\n",
    "\n",
    "rf_selected = RandomForestClassifier(n_estimators=100, random_state=42)\n",
    "rf_selected.fit(X_train[selected_features], y_train)\n",
    "y_pred_sel = rf_selected.predict(X_test[selected_features])\n",
    "print(\"Accuracy with Chi-Square Selected Features:\", accuracy_score(y_test, y_pred_sel))"
   ]
  },
  {
   "cell_type": "markdown",
   "id": "70330a30-907a-4f04-a954-6499170eff01",
   "metadata": {},
   "source": [
    "# ANOVA F-Value"
   ]
  },
  {
   "cell_type": "code",
   "execution_count": 57,
   "id": "282d1890-6712-47cc-8025-a9c621f162b9",
   "metadata": {},
   "outputs": [
    {
     "name": "stdout",
     "output_type": "stream",
     "text": [
      "ANOVA F-Test Results:\n",
      "             Feature      F-Value       p-Value\n",
      "2  petal length (cm)  1180.161182  2.856777e-91\n",
      "3   petal width (cm)   960.007147  4.169446e-85\n",
      "0  sepal length (cm)   119.264502  1.669669e-31\n",
      "1   sepal width (cm)    49.160040  4.492017e-17\n",
      "\n",
      "Significant Features (p < 0.05): ['petal length (cm)', 'petal width (cm)', 'sepal length (cm)', 'sepal width (cm)']\n",
      "\n",
      "Accuracy with All Features: 1.0\n",
      "Accuracy with Significant Features: 1.0\n"
     ]
    }
   ],
   "source": [
    "from sklearn.feature_selection import f_classif\n",
    "\n",
    "f_values, p_values = f_classif(X, y)\n",
    "\n",
    "anova_results = pd.DataFrame({\n",
    "    \"Feature\": iris.feature_names,\n",
    "    \"F-Value\": f_values,\n",
    "    \"p-Value\": p_values\n",
    "}).sort_values(by=\"F-Value\", ascending=False)\n",
    "\n",
    "print(\"ANOVA F-Test Results:\")\n",
    "print(anova_results)\n",
    "\n",
    "significant_features = anova_results[anova_results[\"p-Value\"] < 0.05][\"Feature\"].tolist()\n",
    "print(\"\\nSignificant Features (p < 0.05):\", significant_features)\n",
    "\n",
    "X_train, X_test, y_train, y_test = train_test_split(X, y, test_size=0.2, random_state=42)\n",
    "\n",
    "# Model with all features\n",
    "rf_all = RandomForestClassifier(n_estimators=100, random_state=42)\n",
    "rf_all.fit(X_train, y_train)\n",
    "y_pred_all = rf_all.predict(X_test)\n",
    "print(\"\\nAccuracy with All Features:\", accuracy_score(y_test, y_pred_all))\n",
    "\n",
    "# Model with significant features only\n",
    "X_train_sig, X_test_sig, y_train_sig, y_test_sig = train_test_split(X[significant_features], y, test_size=0.2, random_state=42)\n",
    "\n",
    "rf_sig = RandomForestClassifier(n_estimators=100, random_state=42)\n",
    "rf_sig.fit(X_train_sig, y_train_sig)\n",
    "y_pred_sig = rf_sig.predict(X_test_sig)\n",
    "print(\"Accuracy with Significant Features:\", accuracy_score(y_test_sig, y_pred_sig))"
   ]
  },
  {
   "cell_type": "markdown",
   "id": "97c32742-33d9-4405-9a1e-e7ca98237288",
   "metadata": {},
   "source": [
    "# Correlation Matrix with Heatmap"
   ]
  },
  {
   "cell_type": "code",
   "execution_count": 61,
   "id": "cdf10e5a-7f64-4beb-8920-14e90ef756cf",
   "metadata": {},
   "outputs": [
    {
     "name": "stdout",
     "output_type": "stream",
     "text": [
      "Correlation Matrix:\n",
      "                    sepal length (cm)  sepal width (cm)  petal length (cm)  \\\n",
      "sepal length (cm)           1.000000         -0.117570           0.871754   \n",
      "sepal width (cm)           -0.117570          1.000000          -0.428440   \n",
      "petal length (cm)           0.871754         -0.428440           1.000000   \n",
      "petal width (cm)            0.817941         -0.366126           0.962865   \n",
      "\n",
      "                   petal width (cm)  \n",
      "sepal length (cm)          0.817941  \n",
      "sepal width (cm)          -0.366126  \n",
      "petal length (cm)          0.962865  \n",
      "petal width (cm)           1.000000  \n"
     ]
    },
    {
     "data": {
      "image/png": "[encoded data removed]",
      "text/plain": [
       "<Figure size 600x400 with 2 Axes>"
      ]
     },
     "metadata": {},
     "output_type": "display_data"
    },
    {
     "name": "stdout",
     "output_type": "stream",
     "text": [
      "\n",
      "Accuracy with All Features: 1.0\n",
      "Accuracy without Highly Correlated Features: 0.9666666666666667\n"
     ]
    }
   ],
   "source": [
    "import seaborn as sns\n",
    "\n",
    "corr_matrix = X.corr()\n",
    "print(\"Correlation Matrix:\\n\", corr_matrix)\n",
    "\n",
    "plt.figure(figsize=(6, 4))\n",
    "sns.heatmap(corr_matrix, annot=True, cmap=\"coolwarm\", fmt=\".2f\")\n",
    "plt.title(\"Feature Correlation Heatmap \")\n",
    "plt.show()\n",
    "\n",
    "\n",
    "# Model Performance Comparison\n",
    "X_train, X_test, y_train, y_test = train_test_split(X, y, test_size=0.2, random_state=42)\n",
    "\n",
    "# Model with all features\n",
    "rf_all = RandomForestClassifier(n_estimators=100, random_state=42)\n",
    "rf_all.fit(X_train, y_train)\n",
    "y_pred_all = rf_all.predict(X_test)\n",
    "print(\"\\nAccuracy with All Features:\", accuracy_score(y_test, y_pred_all))\n",
    "\n",
    "# Model without highly correlated features\n",
    "X_reduced = X.drop(columns=high_corr_features)\n",
    "X_train_r, X_test_r, y_train_r, y_test_r = train_test_split(X_reduced, y, test_size=0.2, random_state=42)\n",
    "\n",
    "rf_reduced = RandomForestClassifier(n_estimators=100, random_state=42)\n",
    "rf_reduced.fit(X_train_r, y_train_r)\n",
    "y_pred_r = rf_reduced.predict(X_test_r)\n",
    "print(\"Accuracy without Highly Correlated Features:\", accuracy_score(y_test_r, y_pred_r))"
   ]
  },
  {
   "cell_type": "code",
   "execution_count": null,
   "id": "81696278-56db-4762-a2a1-ee8a2e5122ab",
   "metadata": {},
   "outputs": [],
   "source": []
  }
 ],
 "metadata": {
  "kernelspec": {
   "display_name": "Python 3 (ipykernel)",
   "language": "python",
   "name": "python3"
  },
  "language_info": {
   "codemirror_mode": {
    "name": "ipython",
    "version": 3
   },
   "file_extension": ".py",
   "mimetype": "text/x-python",
   "name": "python",
   "nbconvert_exporter": "python",
   "pygments_lexer": "ipython3",
   "version": "3.13.3"
  }
 },
 "nbformat": 4,
 "nbformat_minor": 5
}
