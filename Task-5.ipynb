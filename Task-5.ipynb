{
 "cells": [
  {
   "cell_type": "code",
   "execution_count": 20,
   "id": "329e4890-9ff3-4d79-a4b6-d6b525cedd7f",
   "metadata": {},
   "outputs": [],
   "source": [
    "from pgmpy.models import DiscreteBayesianNetwork \n",
    "from pgmpy.factors.discrete import TabularCPD\n",
    "from pgmpy.inference import VariableElimination\n",
    "import matplotlib.pyplot as plt\n",
    "import networkx as nx"
   ]
  },
  {
   "cell_type": "code",
   "execution_count": 21,
   "id": "6f6d74ab-03b5-450d-bb07-b7681e3c5460",
   "metadata": {},
   "outputs": [],
   "source": [
    "model = DiscreteBayesianNetwork ([('Income', 'LoanApproval'),\n",
    "                       ('CreditScore', 'LoanApproval')])"
   ]
  },
  {
   "cell_type": "code",
   "execution_count": 22,
   "id": "2404878f-4efc-46a7-8e56-1753e22e28f2",
   "metadata": {},
   "outputs": [],
   "source": [
    "cpd_income = TabularCPD(variable='Income',\n",
    "                        variable_card=2,\n",
    "                        values=[[0.6], [0.4]], # [High, Low]\n",
    "                        state_names={'Income': ['High', 'Low']})\n",
    "\n",
    "cpd_credit = TabularCPD(variable='CreditScore',\n",
    "                        variable_card=2,\n",
    "                        values=[[0.7], [0.3]], # [Good, Bad]\n",
    "                        state_names={'CreditScore': ['Good', 'Bad']})\n",
    "\n",
    "cpd_loan = TabularCPD(variable='LoanApproval',\n",
    "                      variable_card=2,\n",
    "                      values=[[0.95, 0.60, 0.70, 0.20],   # Yes\n",
    "                              [0.05, 0.40, 0.30, 0.80]], # No\n",
    "                      evidence=['Income', 'CreditScore'],\n",
    "                      evidence_card=[2, 2],\n",
    "                      state_names={'LoanApproval': ['Yes', 'No'],\n",
    "                                   'Income': ['High', 'Low'],\n",
    "                                   'CreditScore': ['Good', 'Bad']})"
   ]
  },
  {
   "cell_type": "code",
   "execution_count": 23,
   "id": "a74f06cc-87dd-4535-8b1d-a698457ee40c",
   "metadata": {},
   "outputs": [
    {
     "name": "stdout",
     "output_type": "stream",
     "text": [
      "Model valid? True\n",
      "+-------------------+---------------------+\n",
      "| LoanApproval      |   phi(LoanApproval) |\n",
      "+===================+=====================+\n",
      "| LoanApproval(Yes) |              0.6000 |\n",
      "+-------------------+---------------------+\n",
      "| LoanApproval(No)  |              0.4000 |\n",
      "+-------------------+---------------------+\n"
     ]
    }
   ],
   "source": [
    "model.add_cpds(cpd_income, cpd_credit, cpd_loan)\n",
    "print(\"Model valid?\", model.check_model())\n",
    "infer = VariableElimination(model)\n",
    "result = infer.query(variables=['LoanApproval'],\n",
    "                     evidence={'Income': 'High', 'CreditScore': 'Bad'})\n",
    "print(result)"
   ]
  },
  {
   "cell_type": "code",
   "execution_count": null,
   "id": "5380e58d-a3d9-4646-94c8-617f89cdcc8f",
   "metadata": {},
   "outputs": [],
   "source": []
  },
  {
   "cell_type": "code",
   "execution_count": null,
   "id": "849509e1-9fc5-4ad5-8954-7a05dcee5ed4",
   "metadata": {},
   "outputs": [],
   "source": []
  }
 ],
 "metadata": {
  "kernelspec": {
   "display_name": "Python 3 (ipykernel)",
   "language": "python",
   "name": "python3"
  },
  "language_info": {
   "codemirror_mode": {
    "name": "ipython",
    "version": 3
   },
   "file_extension": ".py",
   "mimetype": "text/x-python",
   "name": "python",
   "nbconvert_exporter": "python",
   "pygments_lexer": "ipython3",
   "version": "3.13.3"
  }
 },
 "nbformat": 4,
 "nbformat_minor": 5
}
