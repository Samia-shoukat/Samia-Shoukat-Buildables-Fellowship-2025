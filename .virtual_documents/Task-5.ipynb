from pgmpy.models import DiscreteBayesianNetwork 
from pgmpy.factors.discrete import TabularCPD
from pgmpy.inference import VariableElimination
import matplotlib.pyplot as plt
import networkx as nx


model = DiscreteBayesianNetwork ([('Income', 'LoanApproval'),
                       ('CreditScore', 'LoanApproval')])


cpd_income = TabularCPD(variable='Income',
                        variable_card=2,
                        values=[[0.6], [0.4]], # [High, Low]
                        state_names={'Income': ['High', 'Low']})

cpd_credit = TabularCPD(variable='CreditScore',
                        variable_card=2,
                        values=[[0.7], [0.3]], # [Good, Bad]
                        state_names={'CreditScore': ['Good', 'Bad']})

cpd_loan = TabularCPD(variable='LoanApproval',
                      variable_card=2,
                      values=[[0.95, 0.60, 0.70, 0.20],   # Yes
                              [0.05, 0.40, 0.30, 0.80]], # No
                      evidence=['Income', 'CreditScore'],
                      evidence_card=[2, 2],
                      state_names={'LoanApproval': ['Yes', 'No'],
                                   'Income': ['High', 'Low'],
                                   'CreditScore': ['Good', 'Bad']})


model.add_cpds(cpd_income, cpd_credit, cpd_loan)
print("Model valid?", model.check_model())
infer = VariableElimination(model)
result = infer.query(variables=['LoanApproval'],
                     evidence={'Income': 'High', 'CreditScore': 'Bad'})
print(result)






