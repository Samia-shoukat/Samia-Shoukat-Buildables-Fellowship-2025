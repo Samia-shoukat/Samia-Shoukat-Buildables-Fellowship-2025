import numpy as np
import matplotlib.pyplot as plt
from sklearn.datasets import load_iris
from sklearn.model_selection import train_test_split
from sklearn.svm import SVC
from sklearn.preprocessing import StandardScaler
from sklearn.metrics import accuracy_score


X = iris.data  
y = iris.target 





X_train, X_test, y_train, y_test = train_test_split(X, y, test_size=0.2, random_state=42, stratify=y)


scaler = StandardScaler()


X_train = scaler.fit_transform(X_train)
X_test = scaler.transform(X_test)





kernels = ["linear", "poly", "rbf"]





svm = SVC(kernel='linear')
svm.fit(X_train,y_train)


y_pred = svm.predict(X_test)


accuracy = accuracy_score(y_test,y_pred)
print("Accuracy:", accuracy)





svm = SVC(kernel='poly')
svm.fit(X_train,y_train)


y_pred = svm.predict(X_test)


accuracy = accuracy_score(y_test,y_pred)
print("Accuracy:", accuracy)





svm = SVC(kernel='rbf')
svm.fit(X_train,y_train)


y_pred = svm.predict(X_test)


accuracy = accuracy_score(y_test,y_pred)
print("Accuracy:", accuracy)


plt.bar(results.keys(), results.values(), color=['blue', 'orange', 'green'])
plt.title("SVM Accuracy with Different Kernels (Iris Dataset)")
plt.xlabel("Kernel")
plt.ylabel("Accuracy")
plt.ylim(0, 1)
plt.show()






